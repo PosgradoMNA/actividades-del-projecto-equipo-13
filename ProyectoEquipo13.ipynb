{
  "cells": [
    {
      "cell_type": "markdown",
      "metadata": {
        "colab_type": "text",
        "id": "view-in-github"
      },
      "source": [
        "<a href=\"https://colab.research.google.com/github/PosgradoMNA/actividades-del-projecto-equipo-13/blob/main/ProyectoEquipo13.ipynb\" target=\"_parent\"><img src=\"https://colab.research.google.com/assets/colab-badge.svg\" alt=\"Open In Colab\"/></a>"
      ]
    },
    {
      "cell_type": "markdown",
      "metadata": {
        "id": "lXugfD-kXuNr"
      },
      "source": [
        "## El nombre que caracteriza el conjunto de datos."
      ]
    },
    {
      "cell_type": "markdown",
      "metadata": {
        "id": "UeuJwfgiX3E8"
      },
      "source": [
        "##Secretaria de Salud del gobierno de México\n",
        "###Instituto Nacional de Salud Pública"
      ]
    },
    {
      "cell_type": "markdown",
      "metadata": {
        "id": "XEF33jilX6O2"
      },
      "source": [
        "[Pagina de descarga](https://ensanut.insp.mx/encuestas/ensanutcontinua2020/descargas.php)\n"
      ]
    },
    {
      "cell_type": "markdown",
      "metadata": {
        "id": "mpHcwq1EX_tu"
      },
      "source": [
        "El conjunto de datos contiene alrededor de 15,000 encuestas con el tipo y frecuencia de alimentos consumidos durante el año 2021, así como encuestas de salud de los mismos usuarios"
      ]
    },
    {
      "cell_type": "markdown",
      "metadata": {
        "id": "oXurb6aGYAaB"
      },
      "source": [
        "##Preguntas \n",
        "\n",
        "\n",
        "1.   ¿Existe una relación entre el consumo de bebidas azucaradas y obesidad?\n",
        "2.   ¿Existe una relacion entre el consumo alimentos procesados y obesidad?\n",
        "3.   ¿Existe una relacion entre el consumo alimentos con fibra y peso normal?\n",
        "4.   ¿Existe una relacion entre el consumo alimentos en la frontera y mayor obesidad en la región?\n",
        "5.   ¿Existe mayor consumo de bebidas azucaradas en regiones calurosas?\n",
        "6.   ¿Existen mas casos de diabetes en regiones de alto consumo de bebidas azucaradas?\n",
        "7.   ¿Son mas hipertensos las personas que toman mas bebidas azucaradas?\n",
        "8.   ¿El consumo de tortilla sin bebidas azucaradas se relaciona con obesidad?\n",
        "\n",
        "\n"
      ]
    },
    {
      "cell_type": "markdown",
      "metadata": {
        "id": "xHWx__eHYDjT"
      },
      "source": [
        "¿Qué actor (empresa, sector de la sociedad, organismo descentralizado, gobierno, etc.) estaría interesado en las preguntas mencionadas que identificó?\n",
        "\n",
        "*   El poder legislativo estaría interesado en estas respuestas para imponer impuestos a las bebidas azucaradas. \n",
        "\n",
        "*   La secretaria de educación Pública estaría interesada en estas respuestas para limitar la venta de estas bebidas en las escuelas primarias\n"
      ]
    }
  ],
  "metadata": {
    "colab": {
      "authorship_tag": "ABX9TyN7Uh7FlXKQEiUgmAUZd9Nr",
      "include_colab_link": true,
      "provenance": []
    },
    "kernelspec": {
      "display_name": "Python 3.9.13 64-bit",
      "language": "python",
      "name": "python3"
    },
    "language_info": {
      "name": "python",
      "version": "3.9.13"
    },
    "vscode": {
      "interpreter": {
        "hash": "397704579725e15f5c7cb49fe5f0341eb7531c82d19f2c29d197e8b64ab5776b"
      }
    }
  },
  "nbformat": 4,
  "nbformat_minor": 0
}
