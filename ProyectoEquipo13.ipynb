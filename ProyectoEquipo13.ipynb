{
  "nbformat": 4,
  "nbformat_minor": 0,
  "metadata": {
    "colab": {
      "provenance": [],
      "authorship_tag": "ABX9TyN7Uh7FlXKQEiUgmAUZd9Nr",
      "include_colab_link": true
    },
    "kernelspec": {
      "name": "python3",
      "display_name": "Python 3"
    },
    "language_info": {
      "name": "python"
    }
  },
  "cells": [
    {
      "cell_type": "markdown",
      "metadata": {
        "id": "view-in-github",
        "colab_type": "text"
      },
      "source": [
        "<a href=\"https://colab.research.google.com/github/PosgradoMNA/actividades-del-projecto-equipo-13/blob/main/ProyectoEquipo13.ipynb\" target=\"_parent\"><img src=\"https://colab.research.google.com/assets/colab-badge.svg\" alt=\"Open In Colab\"/></a>"
      ]
    },
    {
      "cell_type": "markdown",
      "source": [
        "## El nombre que caracteriza el conjunto de datos."
      ],
      "metadata": {
        "id": "lXugfD-kXuNr"
      }
    },
    {
      "cell_type": "markdown",
      "source": [
        "La organización que lo generó."
      ],
      "metadata": {
        "id": "UeuJwfgiX3E8"
      }
    },
    {
      "cell_type": "markdown",
      "source": [
        "Incluya un enlace de Internet donde se puedan descargar en línea y enviar como una hoja de cálculo junto con su informe correspondiente."
      ],
      "metadata": {
        "id": "XEF33jilX6O2"
      }
    },
    {
      "cell_type": "markdown",
      "source": [
        "Describe el conjunto de datos. ¿Qué datos contiene?"
      ],
      "metadata": {
        "id": "mpHcwq1EX_tu"
      }
    },
    {
      "cell_type": "markdown",
      "source": [
        "¿Cuáles son algunas de las preguntas de investigación que podría responder con estos datos? Enumere al menos OCHO (no responda las preguntas)."
      ],
      "metadata": {
        "id": "oXurb6aGYAaB"
      }
    },
    {
      "cell_type": "markdown",
      "source": [],
      "metadata": {
        "id": "dbOf2f9BYGTd"
      }
    },
    {
      "cell_type": "markdown",
      "source": [
        "¿Qué actor (empresa, sector de la sociedad, organismo descentralizado, gobierno, etc.) estaría interesado en las preguntas mencionadas que identificó?"
      ],
      "metadata": {
        "id": "xHWx__eHYDjT"
      }
    }
  ]
}