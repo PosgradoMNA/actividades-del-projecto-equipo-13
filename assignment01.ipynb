{
  "nbformat": 4,
  "nbformat_minor": 0,
  "metadata": {
    "colab": {
      "name": "assignment01.ipynb",
      "provenance": [],
      "include_colab_link": true
    },
    "kernelspec": {
      "name": "python3",
      "display_name": "Python 3"
    },
    "language_info": {
      "name": "python"
    }
  },
  "cells": [
    {
      "cell_type": "markdown",
      "metadata": {
        "id": "view-in-github",
        "colab_type": "text"
      },
      "source": [
        "<a href=\"https://colab.research.google.com/github/PosgradoMNA/actividades-del-projecto-equipo-13/blob/main/assignment01.ipynb\" target=\"_parent\"><img src=\"https://colab.research.google.com/assets/colab-badge.svg\" alt=\"Open In Colab\"/></a>"
      ]
    },
    {
      "cell_type": "markdown",
      "source": [
        "# El nombre que caracteriza el conjunto de datos."
      ],
      "metadata": {
        "id": "1ILo0GH-gx07"
      }
    },
    {
      "cell_type": "markdown",
      "source": [
        "La organización que lo generó."
      ],
      "metadata": {
        "id": "fb5KfY5GgyBU"
      }
    },
    {
      "cell_type": "markdown",
      "source": [
        "Incluya un enlace de Internet donde se puedan descargar en línea y enviar como una hoja de cálculo junto con su informe correspondiente."
      ],
      "metadata": {
        "id": "tWi17elGgyE2"
      }
    },
    {
      "cell_type": "markdown",
      "source": [
        "Describe el conjunto de datos. ¿Qué datos contiene?"
      ],
      "metadata": {
        "id": "_GYV_pIugyIB"
      }
    },
    {
      "cell_type": "markdown",
      "source": [
        "¿Cuáles son algunas de las preguntas de investigación que podría responder con estos datos? Enumere al menos OCHO (no responda las preguntas)."
      ],
      "metadata": {
        "id": "gtE0NEnTgyMP"
      }
    },
    {
      "cell_type": "markdown",
      "source": [
        "¿Qué actor (empresa, sector de la sociedad, organismo descentralizado, gobierno, etc.) estaría interesado en las preguntas mencionadas que identificó?"
      ],
      "metadata": {
        "id": "ezCmkvAIhFUo"
      }
    }
  ]
}