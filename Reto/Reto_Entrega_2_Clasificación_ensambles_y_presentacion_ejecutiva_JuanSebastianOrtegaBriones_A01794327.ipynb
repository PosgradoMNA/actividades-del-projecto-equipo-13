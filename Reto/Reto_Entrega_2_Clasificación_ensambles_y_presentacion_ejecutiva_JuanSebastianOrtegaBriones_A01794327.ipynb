{
 "cells": [
  {
   "cell_type": "markdown",
   "metadata": {
    "colab_type": "text",
    "id": "view-in-github"
   },
   "source": [
    "<a href=\"https://colab.research.google.com/github/PosgradoMNA/actividades-del-projecto-equipo-13/blob/main/Reto/Reto_Entrega_2_Clasificaci%C3%B3n_ensambles_y_presentacion_ejecutiva_JuanSebastianOrtegaBriones_A01794327.ipynb\" target=\"_parent\"><img src=\"https://colab.research.google.com/assets/colab-badge.svg\" alt=\"Open In Colab\"/></a>"
   ]
  },
  {
   "cell_type": "markdown",
   "metadata": {
    "id": "IZekAWkD0eyf"
   },
   "source": [
    "![download.png](data:image/png;base64,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)"
   ]
  },
  {
   "cell_type": "markdown",
   "metadata": {
    "id": "oSHqCg_N0S0v"
   },
   "source": [
    "# Reto: Parte 2 Clasificación-ensambles y presentación ejecutiva\n",
    "## Ciencia y analítica de datos\n",
    "### Profesor: María de la Paz Rico Fernández\n",
    "### Juan Sebastián Ortega Briones A01794327\n",
    "### Equipo 13\n",
    "**18 de Noviembre del 2022**"
   ]
  },
  {
   "cell_type": "markdown",
   "metadata": {
    "id": "WwhgY_0BcaPp"
   },
   "source": [
    "# Carga librerias y datos"
   ]
  },
  {
   "cell_type": "code",
   "execution_count": 27,
   "metadata": {},
   "outputs": [
    {
     "name": "stdout",
     "output_type": "stream",
     "text": [
      "Requirement already satisfied: sklearn in /Library/Frameworks/Python.framework/Versions/3.7/lib/python3.7/site-packages (0.0.post1)\n",
      "\n",
      "\u001b[1m[\u001b[0m\u001b[34;49mnotice\u001b[0m\u001b[1;39;49m]\u001b[0m\u001b[39;49m A new release of pip available: \u001b[0m\u001b[31;49m22.2.2\u001b[0m\u001b[39;49m -> \u001b[0m\u001b[32;49m22.3.1\u001b[0m\n",
      "\u001b[1m[\u001b[0m\u001b[34;49mnotice\u001b[0m\u001b[1;39;49m]\u001b[0m\u001b[39;49m To update, run: \u001b[0m\u001b[32;49mpip install --upgrade pip\u001b[0m\n"
     ]
    }
   ],
   "source": [
    "!pip3 install sklearn\n",
    "\n"
   ]
  },
  {
   "cell_type": "code",
   "execution_count": 12,
   "metadata": {
    "id": "6XmTtqTWHfJP"
   },
   "outputs": [],
   "source": [
    "import pandas as pd\n",
    "import numpy as np\n",
    "import matplotlib.pyplot as plt\n",
    "import matplotlib.colors as color\n",
    "import seaborn as sns\n",
    "%matplotlib inline\n",
    "import ssl\n",
    "ssl._create_default_https_context = ssl._create_unverified_context"
   ]
  },
  {
   "cell_type": "code",
   "execution_count": 13,
   "metadata": {
    "id": "qWH8okiL0S0y"
   },
   "outputs": [],
   "source": [
    "pd.set_option(\"display.max_columns\", 57)\n",
    "pd.set_option(\"display.max_rows\", 100)"
   ]
  },
  {
   "cell_type": "markdown",
   "metadata": {
    "id": "tx6vuCFc0S0y"
   },
   "source": [
    "**Uso de Base de datos de Aguas Subterraneas**"
   ]
  },
  {
   "cell_type": "code",
   "execution_count": 14,
   "metadata": {
    "id": "YHP2ZC-p0S0z"
   },
   "outputs": [],
   "source": [
    "df=pd.read_csv(\"https://raw.githubusercontent.com/PosgradoMNA/actividades-del-projecto-equipo-13/main/Reto/Datos_de_calidad_del_agua_de_sitios_de_monitoreo_de_aguas_subterraneas_2020.csv\", encoding = 'ISO-8859-1')  #Importa datos de Aguas subterraneas"
   ]
  },
  {
   "cell_type": "code",
   "execution_count": 15,
   "metadata": {
    "colab": {
     "base_uri": "https://localhost:8080/",
     "height": 392
    },
    "id": "QopsFFXi0S0z",
    "outputId": "d6fdf91d-9806-4a08-ef1d-25bf70a2b201"
   },
   "outputs": [
    {
     "data": {
      "text/html": [
       "<div>\n",
       "<style scoped>\n",
       "    .dataframe tbody tr th:only-of-type {\n",
       "        vertical-align: middle;\n",
       "    }\n",
       "\n",
       "    .dataframe tbody tr th {\n",
       "        vertical-align: top;\n",
       "    }\n",
       "\n",
       "    .dataframe thead th {\n",
       "        text-align: right;\n",
       "    }\n",
       "</style>\n",
       "<table border=\"1\" class=\"dataframe\">\n",
       "  <thead>\n",
       "    <tr style=\"text-align: right;\">\n",
       "      <th></th>\n",
       "      <th>CLAVE</th>\n",
       "      <th>SITIO</th>\n",
       "      <th>ORGANISMO_DE_CUENCA</th>\n",
       "      <th>ESTADO</th>\n",
       "      <th>MUNICIPIO</th>\n",
       "      <th>ACUIFERO</th>\n",
       "      <th>SUBTIPO</th>\n",
       "      <th>LONGITUD</th>\n",
       "      <th>LATITUD</th>\n",
       "      <th>PERIODO</th>\n",
       "      <th>ALC_mg/L</th>\n",
       "      <th>CALIDAD_ALC</th>\n",
       "      <th>CONDUCT_mS/cm</th>\n",
       "      <th>CALIDAD_CONDUC</th>\n",
       "      <th>SDT_mg/L</th>\n",
       "      <th>SDT_M_mg/L</th>\n",
       "      <th>CALIDAD_SDT_ra</th>\n",
       "      <th>CALIDAD_SDT_salin</th>\n",
       "      <th>FLUORUROS_mg/L</th>\n",
       "      <th>CALIDAD_FLUO</th>\n",
       "      <th>DUR_mg/L</th>\n",
       "      <th>CALIDAD_DUR</th>\n",
       "      <th>COLI_FEC_NMP/100_mL</th>\n",
       "      <th>CALIDAD_COLI_FEC</th>\n",
       "      <th>N_NO3_mg/L</th>\n",
       "      <th>CALIDAD_N_NO3</th>\n",
       "      <th>AS_TOT_mg/L</th>\n",
       "      <th>CALIDAD_AS</th>\n",
       "      <th>CD_TOT_mg/L</th>\n",
       "      <th>CALIDAD_CD</th>\n",
       "      <th>CR_TOT_mg/L</th>\n",
       "      <th>CALIDAD_CR</th>\n",
       "      <th>HG_TOT_mg/L</th>\n",
       "      <th>CALIDAD_HG</th>\n",
       "      <th>PB_TOT_mg/L</th>\n",
       "      <th>CALIDAD_PB</th>\n",
       "      <th>MN_TOT_mg/L</th>\n",
       "      <th>CALIDAD_MN</th>\n",
       "      <th>FE_TOT_mg/L</th>\n",
       "      <th>CALIDAD_FE</th>\n",
       "      <th>SEMAFORO</th>\n",
       "      <th>CONTAMINANTES</th>\n",
       "      <th>CUMPLE_CON_ALC</th>\n",
       "      <th>CUMPLE_CON_COND</th>\n",
       "      <th>CUMPLE_CON_SDT_ra</th>\n",
       "      <th>CUMPLE_CON_SDT_salin</th>\n",
       "      <th>CUMPLE_CON_FLUO</th>\n",
       "      <th>CUMPLE_CON_DUR</th>\n",
       "      <th>CUMPLE_CON_CF</th>\n",
       "      <th>CUMPLE_CON_NO3</th>\n",
       "      <th>CUMPLE_CON_AS</th>\n",
       "      <th>CUMPLE_CON_CD</th>\n",
       "      <th>CUMPLE_CON_CR</th>\n",
       "      <th>CUMPLE_CON_HG</th>\n",
       "      <th>CUMPLE_CON_PB</th>\n",
       "      <th>CUMPLE_CON_MN</th>\n",
       "      <th>CUMPLE_CON_FE</th>\n",
       "    </tr>\n",
       "  </thead>\n",
       "  <tbody>\n",
       "    <tr>\n",
       "      <th>0</th>\n",
       "      <td>DLAGU6</td>\n",
       "      <td>POZO SAN GIL</td>\n",
       "      <td>LERMA SANTIAGO PACIFICO</td>\n",
       "      <td>AGUASCALIENTES</td>\n",
       "      <td>ASIENTOS</td>\n",
       "      <td>VALLE DE CHICALOTE</td>\n",
       "      <td>POZO</td>\n",
       "      <td>-102.02210</td>\n",
       "      <td>22.20887</td>\n",
       "      <td>2020</td>\n",
       "      <td>229.990</td>\n",
       "      <td>Alta</td>\n",
       "      <td>940.0</td>\n",
       "      <td>Permisible para riego</td>\n",
       "      <td>NaN</td>\n",
       "      <td>603.6</td>\n",
       "      <td>Cultivos sensibles</td>\n",
       "      <td>Potable - Dulce</td>\n",
       "      <td>0.9766</td>\n",
       "      <td>Potable - Optima</td>\n",
       "      <td>213.732</td>\n",
       "      <td>Potable - Dura</td>\n",
       "      <td>&lt;1.1</td>\n",
       "      <td>Potable - Excelente</td>\n",
       "      <td>4.184656</td>\n",
       "      <td>Potable - Excelente</td>\n",
       "      <td>0.0161</td>\n",
       "      <td>Apta como FAAP</td>\n",
       "      <td>&lt;0.003</td>\n",
       "      <td>Potable - Excelente</td>\n",
       "      <td>&lt;0.005</td>\n",
       "      <td>Potable - Excelente</td>\n",
       "      <td>&lt;0.0005</td>\n",
       "      <td>Potable - Excelente</td>\n",
       "      <td>&lt;0.005</td>\n",
       "      <td>Potable - Excelente</td>\n",
       "      <td>&lt;0.0015</td>\n",
       "      <td>Potable - Excelente</td>\n",
       "      <td>0.0891</td>\n",
       "      <td>Potable - Excelente</td>\n",
       "      <td>Verde</td>\n",
       "      <td>NaN</td>\n",
       "      <td>SI</td>\n",
       "      <td>SI</td>\n",
       "      <td>SI</td>\n",
       "      <td>SI</td>\n",
       "      <td>SI</td>\n",
       "      <td>SI</td>\n",
       "      <td>SI</td>\n",
       "      <td>SI</td>\n",
       "      <td>SI</td>\n",
       "      <td>SI</td>\n",
       "      <td>SI</td>\n",
       "      <td>SI</td>\n",
       "      <td>SI</td>\n",
       "      <td>SI</td>\n",
       "      <td>SI</td>\n",
       "    </tr>\n",
       "    <tr>\n",
       "      <th>1</th>\n",
       "      <td>DLAGU6516</td>\n",
       "      <td>POZO R013 CAÑADA HONDA</td>\n",
       "      <td>LERMA SANTIAGO PACIFICO</td>\n",
       "      <td>AGUASCALIENTES</td>\n",
       "      <td>AGUASCALIENTES</td>\n",
       "      <td>VALLE DE CHICALOTE</td>\n",
       "      <td>POZO</td>\n",
       "      <td>-102.20075</td>\n",
       "      <td>21.99958</td>\n",
       "      <td>2020</td>\n",
       "      <td>231.990</td>\n",
       "      <td>Alta</td>\n",
       "      <td>608.0</td>\n",
       "      <td>Buena para riego</td>\n",
       "      <td>NaN</td>\n",
       "      <td>445.4</td>\n",
       "      <td>Excelente para riego</td>\n",
       "      <td>Potable - Dulce</td>\n",
       "      <td>0.9298</td>\n",
       "      <td>Potable - Optima</td>\n",
       "      <td>185.0514</td>\n",
       "      <td>Potable - Dura</td>\n",
       "      <td>&lt;1.1</td>\n",
       "      <td>Potable - Excelente</td>\n",
       "      <td>5.75011</td>\n",
       "      <td>Potable - Buena calidad</td>\n",
       "      <td>0.0134</td>\n",
       "      <td>Apta como FAAP</td>\n",
       "      <td>&lt;0.003</td>\n",
       "      <td>Potable - Excelente</td>\n",
       "      <td>&lt;0.005</td>\n",
       "      <td>Potable - Excelente</td>\n",
       "      <td>&lt;0.0005</td>\n",
       "      <td>Potable - Excelente</td>\n",
       "      <td>&lt;0.005</td>\n",
       "      <td>Potable - Excelente</td>\n",
       "      <td>&lt;0.0015</td>\n",
       "      <td>Potable - Excelente</td>\n",
       "      <td>&lt;0.025</td>\n",
       "      <td>Potable - Excelente</td>\n",
       "      <td>Verde</td>\n",
       "      <td>NaN</td>\n",
       "      <td>SI</td>\n",
       "      <td>SI</td>\n",
       "      <td>SI</td>\n",
       "      <td>SI</td>\n",
       "      <td>SI</td>\n",
       "      <td>SI</td>\n",
       "      <td>SI</td>\n",
       "      <td>SI</td>\n",
       "      <td>SI</td>\n",
       "      <td>SI</td>\n",
       "      <td>SI</td>\n",
       "      <td>SI</td>\n",
       "      <td>SI</td>\n",
       "      <td>SI</td>\n",
       "      <td>SI</td>\n",
       "    </tr>\n",
       "    <tr>\n",
       "      <th>2</th>\n",
       "      <td>DLAGU7</td>\n",
       "      <td>POZO COSIO</td>\n",
       "      <td>LERMA SANTIAGO PACIFICO</td>\n",
       "      <td>AGUASCALIENTES</td>\n",
       "      <td>COSIO</td>\n",
       "      <td>VALLE DE AGUASCALIENTES</td>\n",
       "      <td>POZO</td>\n",
       "      <td>-102.28801</td>\n",
       "      <td>22.36685</td>\n",
       "      <td>2020</td>\n",
       "      <td>204.920</td>\n",
       "      <td>Alta</td>\n",
       "      <td>532.0</td>\n",
       "      <td>Buena para riego</td>\n",
       "      <td>NaN</td>\n",
       "      <td>342</td>\n",
       "      <td>Excelente para riego</td>\n",
       "      <td>Potable - Dulce</td>\n",
       "      <td>1.8045</td>\n",
       "      <td>Alta</td>\n",
       "      <td>120.719</td>\n",
       "      <td>Potable - Dura</td>\n",
       "      <td>&lt;1.1</td>\n",
       "      <td>Potable - Excelente</td>\n",
       "      <td>1.449803</td>\n",
       "      <td>Potable - Excelente</td>\n",
       "      <td>0.037</td>\n",
       "      <td>No apta como FAAP</td>\n",
       "      <td>&lt;0.003</td>\n",
       "      <td>Potable - Excelente</td>\n",
       "      <td>&lt;0.005</td>\n",
       "      <td>Potable - Excelente</td>\n",
       "      <td>&lt;0.0005</td>\n",
       "      <td>Potable - Excelente</td>\n",
       "      <td>&lt;0.005</td>\n",
       "      <td>Potable - Excelente</td>\n",
       "      <td>&lt;0.0015</td>\n",
       "      <td>Potable - Excelente</td>\n",
       "      <td>&lt;0.025</td>\n",
       "      <td>Potable - Excelente</td>\n",
       "      <td>Rojo</td>\n",
       "      <td>FLUO,AS,</td>\n",
       "      <td>SI</td>\n",
       "      <td>SI</td>\n",
       "      <td>SI</td>\n",
       "      <td>SI</td>\n",
       "      <td>NO</td>\n",
       "      <td>SI</td>\n",
       "      <td>SI</td>\n",
       "      <td>SI</td>\n",
       "      <td>NO</td>\n",
       "      <td>SI</td>\n",
       "      <td>SI</td>\n",
       "      <td>SI</td>\n",
       "      <td>SI</td>\n",
       "      <td>SI</td>\n",
       "      <td>SI</td>\n",
       "    </tr>\n",
       "    <tr>\n",
       "      <th>3</th>\n",
       "      <td>DLAGU9</td>\n",
       "      <td>POZO EL SALITRILLO</td>\n",
       "      <td>LERMA SANTIAGO PACIFICO</td>\n",
       "      <td>AGUASCALIENTES</td>\n",
       "      <td>RINCON DE ROMOS</td>\n",
       "      <td>VALLE DE AGUASCALIENTES</td>\n",
       "      <td>POZO</td>\n",
       "      <td>-102.29449</td>\n",
       "      <td>22.18435</td>\n",
       "      <td>2020</td>\n",
       "      <td>327.000</td>\n",
       "      <td>Alta</td>\n",
       "      <td>686.0</td>\n",
       "      <td>Buena para riego</td>\n",
       "      <td>NaN</td>\n",
       "      <td>478.6</td>\n",
       "      <td>Excelente para riego</td>\n",
       "      <td>Potable - Dulce</td>\n",
       "      <td>1.1229</td>\n",
       "      <td>Potable - Optima</td>\n",
       "      <td>199.879</td>\n",
       "      <td>Potable - Dura</td>\n",
       "      <td>&lt;1.1</td>\n",
       "      <td>Potable - Excelente</td>\n",
       "      <td>1.258597</td>\n",
       "      <td>Potable - Excelente</td>\n",
       "      <td>0.0154</td>\n",
       "      <td>Apta como FAAP</td>\n",
       "      <td>&lt;0.003</td>\n",
       "      <td>Potable - Excelente</td>\n",
       "      <td>0.005</td>\n",
       "      <td>Potable - Excelente</td>\n",
       "      <td>&lt;0.0005</td>\n",
       "      <td>Potable - Excelente</td>\n",
       "      <td>&lt;0.005</td>\n",
       "      <td>Potable - Excelente</td>\n",
       "      <td>&lt;0.0015</td>\n",
       "      <td>Potable - Excelente</td>\n",
       "      <td>&lt;0.025</td>\n",
       "      <td>Potable - Excelente</td>\n",
       "      <td>Verde</td>\n",
       "      <td>NaN</td>\n",
       "      <td>SI</td>\n",
       "      <td>SI</td>\n",
       "      <td>SI</td>\n",
       "      <td>SI</td>\n",
       "      <td>SI</td>\n",
       "      <td>SI</td>\n",
       "      <td>SI</td>\n",
       "      <td>SI</td>\n",
       "      <td>SI</td>\n",
       "      <td>SI</td>\n",
       "      <td>SI</td>\n",
       "      <td>SI</td>\n",
       "      <td>SI</td>\n",
       "      <td>SI</td>\n",
       "      <td>SI</td>\n",
       "    </tr>\n",
       "    <tr>\n",
       "      <th>4</th>\n",
       "      <td>DLBAJ107</td>\n",
       "      <td>RANCHO EL TECOLOTE</td>\n",
       "      <td>PENINSULA DE BAJA CALIFORNIA</td>\n",
       "      <td>BAJA CALIFORNIA SUR</td>\n",
       "      <td>LA PAZ</td>\n",
       "      <td>TODOS SANTOS</td>\n",
       "      <td>POZO</td>\n",
       "      <td>-110.24480</td>\n",
       "      <td>23.45138</td>\n",
       "      <td>2020</td>\n",
       "      <td>309.885</td>\n",
       "      <td>Alta</td>\n",
       "      <td>1841.0</td>\n",
       "      <td>Permisible para riego</td>\n",
       "      <td>NaN</td>\n",
       "      <td>1179</td>\n",
       "      <td>Cultivos con manejo especial</td>\n",
       "      <td>Ligeramente salobres</td>\n",
       "      <td>0.2343</td>\n",
       "      <td>Baja</td>\n",
       "      <td>476.9872</td>\n",
       "      <td>Potable - Dura</td>\n",
       "      <td>291</td>\n",
       "      <td>Aceptable</td>\n",
       "      <td>15.672251</td>\n",
       "      <td>No apta como FAAP</td>\n",
       "      <td>&lt;0.01</td>\n",
       "      <td>Potable - Excelente</td>\n",
       "      <td>&lt;0.003</td>\n",
       "      <td>Potable - Excelente</td>\n",
       "      <td>&lt;0.005</td>\n",
       "      <td>Potable - Excelente</td>\n",
       "      <td>&lt;0.0005</td>\n",
       "      <td>Potable - Excelente</td>\n",
       "      <td>&lt;0.005</td>\n",
       "      <td>Potable - Excelente</td>\n",
       "      <td>&lt;0.0015</td>\n",
       "      <td>Potable - Excelente</td>\n",
       "      <td>&lt;0.025</td>\n",
       "      <td>Potable - Excelente</td>\n",
       "      <td>Rojo</td>\n",
       "      <td>NO3,</td>\n",
       "      <td>SI</td>\n",
       "      <td>SI</td>\n",
       "      <td>SI</td>\n",
       "      <td>SI</td>\n",
       "      <td>SI</td>\n",
       "      <td>SI</td>\n",
       "      <td>SI</td>\n",
       "      <td>NO</td>\n",
       "      <td>SI</td>\n",
       "      <td>SI</td>\n",
       "      <td>SI</td>\n",
       "      <td>SI</td>\n",
       "      <td>SI</td>\n",
       "      <td>SI</td>\n",
       "      <td>SI</td>\n",
       "    </tr>\n",
       "  </tbody>\n",
       "</table>\n",
       "</div>"
      ],
      "text/plain": [
       "       CLAVE                   SITIO           ORGANISMO_DE_CUENCA  \\\n",
       "0     DLAGU6            POZO SAN GIL       LERMA SANTIAGO PACIFICO   \n",
       "1  DLAGU6516  POZO R013 CAÑADA HONDA       LERMA SANTIAGO PACIFICO   \n",
       "2     DLAGU7              POZO COSIO       LERMA SANTIAGO PACIFICO   \n",
       "3     DLAGU9      POZO EL SALITRILLO       LERMA SANTIAGO PACIFICO   \n",
       "4   DLBAJ107      RANCHO EL TECOLOTE  PENINSULA DE BAJA CALIFORNIA   \n",
       "\n",
       "                ESTADO        MUNICIPIO                 ACUIFERO SUBTIPO  \\\n",
       "0       AGUASCALIENTES         ASIENTOS       VALLE DE CHICALOTE    POZO   \n",
       "1       AGUASCALIENTES   AGUASCALIENTES       VALLE DE CHICALOTE    POZO   \n",
       "2       AGUASCALIENTES            COSIO  VALLE DE AGUASCALIENTES    POZO   \n",
       "3       AGUASCALIENTES  RINCON DE ROMOS  VALLE DE AGUASCALIENTES    POZO   \n",
       "4  BAJA CALIFORNIA SUR           LA PAZ             TODOS SANTOS    POZO   \n",
       "\n",
       "    LONGITUD   LATITUD  PERIODO  ALC_mg/L CALIDAD_ALC  CONDUCT_mS/cm  \\\n",
       "0 -102.02210  22.20887     2020   229.990        Alta          940.0   \n",
       "1 -102.20075  21.99958     2020   231.990        Alta          608.0   \n",
       "2 -102.28801  22.36685     2020   204.920        Alta          532.0   \n",
       "3 -102.29449  22.18435     2020   327.000        Alta          686.0   \n",
       "4 -110.24480  23.45138     2020   309.885        Alta         1841.0   \n",
       "\n",
       "          CALIDAD_CONDUC  SDT_mg/L SDT_M_mg/L                CALIDAD_SDT_ra  \\\n",
       "0  Permisible para riego       NaN      603.6            Cultivos sensibles   \n",
       "1       Buena para riego       NaN      445.4          Excelente para riego   \n",
       "2       Buena para riego       NaN        342          Excelente para riego   \n",
       "3       Buena para riego       NaN      478.6          Excelente para riego   \n",
       "4  Permisible para riego       NaN       1179  Cultivos con manejo especial   \n",
       "\n",
       "      CALIDAD_SDT_salin FLUORUROS_mg/L      CALIDAD_FLUO  DUR_mg/L  \\\n",
       "0       Potable - Dulce         0.9766  Potable - Optima   213.732   \n",
       "1       Potable - Dulce         0.9298  Potable - Optima  185.0514   \n",
       "2       Potable - Dulce         1.8045              Alta   120.719   \n",
       "3       Potable - Dulce         1.1229  Potable - Optima   199.879   \n",
       "4  Ligeramente salobres         0.2343              Baja  476.9872   \n",
       "\n",
       "      CALIDAD_DUR COLI_FEC_NMP/100_mL     CALIDAD_COLI_FEC N_NO3_mg/L  \\\n",
       "0  Potable - Dura                <1.1  Potable - Excelente   4.184656   \n",
       "1  Potable - Dura                <1.1  Potable - Excelente    5.75011   \n",
       "2  Potable - Dura                <1.1  Potable - Excelente   1.449803   \n",
       "3  Potable - Dura                <1.1  Potable - Excelente   1.258597   \n",
       "4  Potable - Dura                 291            Aceptable  15.672251   \n",
       "\n",
       "             CALIDAD_N_NO3 AS_TOT_mg/L           CALIDAD_AS CD_TOT_mg/L  \\\n",
       "0      Potable - Excelente      0.0161       Apta como FAAP      <0.003   \n",
       "1  Potable - Buena calidad      0.0134       Apta como FAAP      <0.003   \n",
       "2      Potable - Excelente       0.037    No apta como FAAP      <0.003   \n",
       "3      Potable - Excelente      0.0154       Apta como FAAP      <0.003   \n",
       "4        No apta como FAAP       <0.01  Potable - Excelente      <0.003   \n",
       "\n",
       "            CALIDAD_CD CR_TOT_mg/L           CALIDAD_CR HG_TOT_mg/L  \\\n",
       "0  Potable - Excelente      <0.005  Potable - Excelente     <0.0005   \n",
       "1  Potable - Excelente      <0.005  Potable - Excelente     <0.0005   \n",
       "2  Potable - Excelente      <0.005  Potable - Excelente     <0.0005   \n",
       "3  Potable - Excelente       0.005  Potable - Excelente     <0.0005   \n",
       "4  Potable - Excelente      <0.005  Potable - Excelente     <0.0005   \n",
       "\n",
       "            CALIDAD_HG PB_TOT_mg/L           CALIDAD_PB MN_TOT_mg/L  \\\n",
       "0  Potable - Excelente      <0.005  Potable - Excelente     <0.0015   \n",
       "1  Potable - Excelente      <0.005  Potable - Excelente     <0.0015   \n",
       "2  Potable - Excelente      <0.005  Potable - Excelente     <0.0015   \n",
       "3  Potable - Excelente      <0.005  Potable - Excelente     <0.0015   \n",
       "4  Potable - Excelente      <0.005  Potable - Excelente     <0.0015   \n",
       "\n",
       "            CALIDAD_MN FE_TOT_mg/L           CALIDAD_FE SEMAFORO  \\\n",
       "0  Potable - Excelente      0.0891  Potable - Excelente    Verde   \n",
       "1  Potable - Excelente      <0.025  Potable - Excelente    Verde   \n",
       "2  Potable - Excelente      <0.025  Potable - Excelente     Rojo   \n",
       "3  Potable - Excelente      <0.025  Potable - Excelente    Verde   \n",
       "4  Potable - Excelente      <0.025  Potable - Excelente     Rojo   \n",
       "\n",
       "  CONTAMINANTES CUMPLE_CON_ALC CUMPLE_CON_COND CUMPLE_CON_SDT_ra  \\\n",
       "0           NaN             SI              SI                SI   \n",
       "1           NaN             SI              SI                SI   \n",
       "2      FLUO,AS,             SI              SI                SI   \n",
       "3           NaN             SI              SI                SI   \n",
       "4          NO3,             SI              SI                SI   \n",
       "\n",
       "  CUMPLE_CON_SDT_salin CUMPLE_CON_FLUO CUMPLE_CON_DUR CUMPLE_CON_CF  \\\n",
       "0                   SI              SI             SI            SI   \n",
       "1                   SI              SI             SI            SI   \n",
       "2                   SI              NO             SI            SI   \n",
       "3                   SI              SI             SI            SI   \n",
       "4                   SI              SI             SI            SI   \n",
       "\n",
       "  CUMPLE_CON_NO3 CUMPLE_CON_AS CUMPLE_CON_CD CUMPLE_CON_CR CUMPLE_CON_HG  \\\n",
       "0             SI            SI            SI            SI            SI   \n",
       "1             SI            SI            SI            SI            SI   \n",
       "2             SI            NO            SI            SI            SI   \n",
       "3             SI            SI            SI            SI            SI   \n",
       "4             NO            SI            SI            SI            SI   \n",
       "\n",
       "  CUMPLE_CON_PB CUMPLE_CON_MN CUMPLE_CON_FE  \n",
       "0            SI            SI            SI  \n",
       "1            SI            SI            SI  \n",
       "2            SI            SI            SI  \n",
       "3            SI            SI            SI  \n",
       "4            SI            SI            SI  "
      ]
     },
     "execution_count": 15,
     "metadata": {},
     "output_type": "execute_result"
    }
   ],
   "source": [
    "df.head()"
   ]
  },
  {
   "cell_type": "code",
   "execution_count": 16,
   "metadata": {
    "colab": {
     "base_uri": "https://localhost:8080/"
    },
    "id": "eMz2bflI0S00",
    "outputId": "96803707-fe42-4200-ef15-cef174d2241f"
   },
   "outputs": [
    {
     "data": {
      "text/plain": [
       "(1068, 57)"
      ]
     },
     "execution_count": 16,
     "metadata": {},
     "output_type": "execute_result"
    }
   ],
   "source": [
    "df.shape"
   ]
  },
  {
   "cell_type": "markdown",
   "metadata": {
    "id": "UPqI8W-b0S00"
   },
   "source": [
    "# Limpieza de datos"
   ]
  },
  {
   "cell_type": "code",
   "execution_count": 17,
   "metadata": {
    "id": "j-6cflJA0S01"
   },
   "outputs": [],
   "source": [
    "#Array de solo las columnas numericas\n",
    "datos_numericos=['ALC_mg/L', 'CONDUCT_mS/cm', 'SDT_M_mg/L', 'FLUORUROS_mg/L', 'DUR_mg/L', 'COLI_FEC_NMP/100_mL', 'N_NO3_mg/L', 'AS_TOT_mg/L', 'CD_TOT_mg/L', 'CR_TOT_mg/L', 'HG_TOT_mg/L', 'PB_TOT_mg/L', 'MN_TOT_mg/L', 'FE_TOT_mg/L']"
   ]
  },
  {
   "cell_type": "code",
   "execution_count": 18,
   "metadata": {
    "id": "sCa1zQ_d0S01"
   },
   "outputs": [],
   "source": [
    "#Remplaza datos numericos que incluyen el simbolo < por 0\n",
    "df.replace(to_replace=r'[<]\\w+', value=0, regex=True, inplace=True)"
   ]
  },
  {
   "cell_type": "code",
   "execution_count": 19,
   "metadata": {
    "id": "HzylDs9fhAXN"
   },
   "outputs": [],
   "source": [
    "#La columna SDT_mg/L no contiene datos y la de CONTAMINANTES tiene muchos Nan seran eliminadas\n",
    "df.drop(['SDT_mg/L','CONTAMINANTES'], axis=1, inplace=True)\n"
   ]
  },
  {
   "cell_type": "code",
   "execution_count": 20,
   "metadata": {
    "id": "fgKlcQGpFwwf"
   },
   "outputs": [],
   "source": [
    "df.dropna(inplace=True)"
   ]
  },
  {
   "cell_type": "code",
   "execution_count": 21,
   "metadata": {
    "id": "Mquc_BU-0S02"
   },
   "outputs": [],
   "source": [
    "#Convierte columnas que contienen datos númericos de tipo objeto a tipo flotante\n",
    "df[datos_numericos]=df[datos_numericos].astype('float')"
   ]
  },
  {
   "cell_type": "markdown",
   "metadata": {
    "id": "-JVrloAq0S06"
   },
   "source": [
    "# Clasificación"
   ]
  },
  {
   "cell_type": "code",
   "execution_count": 22,
   "metadata": {
    "colab": {
     "base_uri": "https://localhost:8080/"
    },
    "id": "Iuioqte3_sOg",
    "outputId": "7b4fc26a-2268-4162-eef5-1d50c755e6b5"
   },
   "outputs": [
    {
     "data": {
      "text/plain": [
       "array(['Verde', 'Rojo', 'Amarillo'], dtype=object)"
      ]
     },
     "execution_count": 22,
     "metadata": {},
     "output_type": "execute_result"
    }
   ],
   "source": [
    "categorias=df['SEMAFORO'].unique()\n",
    "categorias"
   ]
  },
  {
   "cell_type": "code",
   "execution_count": 23,
   "metadata": {
    "id": "zNhNQn2LBmIp"
   },
   "outputs": [],
   "source": [
    "#Cambia la columna del semaforo de un string a un numero para poder comparar con kameans\n",
    "y=df['SEMAFORO'].apply(lambda x: categorias.tolist().index(x))"
   ]
  },
  {
   "cell_type": "code",
   "execution_count": 24,
   "metadata": {
    "id": "rgEVTe8xE8Sx"
   },
   "outputs": [],
   "source": [
    "X=df[datos_numericos].values\n",
    "columnas=df[datos_numericos].columns"
   ]
  },
  {
   "cell_type": "code",
   "execution_count": 25,
   "metadata": {
    "colab": {
     "base_uri": "https://localhost:8080/"
    },
    "id": "jq5A4jksIW3d",
    "outputId": "7815f546-8b07-4236-e591-a13df6201cda"
   },
   "outputs": [
    {
     "data": {
      "text/plain": [
       "Index(['ALC_mg/L', 'CONDUCT_mS/cm', 'SDT_M_mg/L', 'FLUORUROS_mg/L', 'DUR_mg/L',\n",
       "       'COLI_FEC_NMP/100_mL', 'N_NO3_mg/L', 'AS_TOT_mg/L', 'CD_TOT_mg/L',\n",
       "       'CR_TOT_mg/L', 'HG_TOT_mg/L', 'PB_TOT_mg/L', 'MN_TOT_mg/L',\n",
       "       'FE_TOT_mg/L'],\n",
       "      dtype='object')"
      ]
     },
     "execution_count": 25,
     "metadata": {},
     "output_type": "execute_result"
    }
   ],
   "source": [
    "columnas"
   ]
  },
  {
   "cell_type": "code",
   "execution_count": 29,
   "metadata": {
    "id": "JEl73-yCE1ib"
   },
   "outputs": [
    {
     "ename": "ModuleNotFoundError",
     "evalue": "No module named 'sklearn'",
     "output_type": "error",
     "traceback": [
      "\u001b[0;31m---------------------------------------------------------------------------\u001b[0m",
      "\u001b[0;31mModuleNotFoundError\u001b[0m                       Traceback (most recent call last)",
      "\u001b[0;32m/var/folders/lt/2qlg5r0d4p57g19cvy5lpz2w0000gp/T/ipykernel_73219/240913657.py\u001b[0m in \u001b[0;36m<module>\u001b[0;34m\u001b[0m\n\u001b[0;32m----> 1\u001b[0;31m \u001b[0;32mfrom\u001b[0m \u001b[0msklearn\u001b[0m\u001b[0;34m.\u001b[0m\u001b[0mtree\u001b[0m \u001b[0;32mimport\u001b[0m \u001b[0mDecisionTreeClassifier\u001b[0m\u001b[0;34m\u001b[0m\u001b[0;34m\u001b[0m\u001b[0m\n\u001b[0m",
      "\u001b[0;31mModuleNotFoundError\u001b[0m: No module named 'sklearn'"
     ]
    }
   ],
   "source": [
    "from sklearn.tree import DecisionTreeClassifier"
   ]
  },
  {
   "cell_type": "code",
   "execution_count": 30,
   "metadata": {
    "colab": {
     "base_uri": "https://localhost:8080/"
    },
    "id": "UTozKpBFFmTM",
    "outputId": "cd18bb0c-9a29-4219-9c46-964ee23df8fa"
   },
   "outputs": [
    {
     "ename": "NameError",
     "evalue": "name 'DecisionTreeClassifier' is not defined",
     "output_type": "error",
     "traceback": [
      "\u001b[0;31m---------------------------------------------------------------------------\u001b[0m",
      "\u001b[0;31mNameError\u001b[0m                                 Traceback (most recent call last)",
      "\u001b[0;32m/var/folders/lt/2qlg5r0d4p57g19cvy5lpz2w0000gp/T/ipykernel_73219/3081522592.py\u001b[0m in \u001b[0;36m<module>\u001b[0;34m\u001b[0m\n\u001b[0;32m----> 1\u001b[0;31m \u001b[0mtree_clf\u001b[0m \u001b[0;34m=\u001b[0m \u001b[0mDecisionTreeClassifier\u001b[0m\u001b[0;34m(\u001b[0m\u001b[0mmax_depth\u001b[0m\u001b[0;34m=\u001b[0m\u001b[0;36m4\u001b[0m\u001b[0;34m,\u001b[0m \u001b[0mrandom_state\u001b[0m\u001b[0;34m=\u001b[0m\u001b[0;36m42\u001b[0m\u001b[0;34m)\u001b[0m\u001b[0;34m\u001b[0m\u001b[0;34m\u001b[0m\u001b[0m\n\u001b[0m\u001b[1;32m      2\u001b[0m \u001b[0mtree_clf\u001b[0m\u001b[0;34m.\u001b[0m\u001b[0mfit\u001b[0m\u001b[0;34m(\u001b[0m\u001b[0mX\u001b[0m\u001b[0;34m,\u001b[0m \u001b[0my\u001b[0m\u001b[0;34m)\u001b[0m\u001b[0;34m\u001b[0m\u001b[0;34m\u001b[0m\u001b[0m\n",
      "\u001b[0;31mNameError\u001b[0m: name 'DecisionTreeClassifier' is not defined"
     ]
    }
   ],
   "source": [
    "tree_clf = DecisionTreeClassifier(max_depth=4, random_state=42)\n",
    "tree_clf.fit(X, y)"
   ]
  },
  {
   "cell_type": "markdown",
   "metadata": {
    "id": "-c3OgL0S_cb5"
   },
   "source": [
    "**Importancia de las variables**"
   ]
  },
  {
   "cell_type": "code",
   "execution_count": null,
   "metadata": {
    "colab": {
     "base_uri": "https://localhost:8080/",
     "height": 488
    },
    "id": "RrLZDFyA-zNz",
    "outputId": "e237446e-f7ab-46d0-c084-902f9c712f51"
   },
   "outputs": [],
   "source": [
    "importancia_clf=pd.DataFrame(tree_clf.feature_importances_,columns=['importancia'])\n",
    "importancia_clf['nombres']=columnas\n",
    "importancia_clf.sort_values(by='importancia', ascending=False)"
   ]
  },
  {
   "cell_type": "code",
   "execution_count": null,
   "metadata": {
    "id": "N4wOyFszGoDF"
   },
   "outputs": [],
   "source": [
    "from sklearn.tree import export_graphviz\n",
    "\n",
    "export_graphviz(\n",
    "        tree_clf,\n",
    "        out_file=str( \"aguas_subterraneas.dot\"),  # path differs in the book\n",
    "        feature_names=columnas,\n",
    "        class_names=categorias,\n",
    "        rounded=True,\n",
    "        filled=True\n",
    "    )"
   ]
  },
  {
   "cell_type": "code",
   "execution_count": null,
   "metadata": {
    "colab": {
     "base_uri": "https://localhost:8080/",
     "height": 757
    },
    "id": "c0sKYglYHFdK",
    "outputId": "70165b93-e3c9-417e-9b5a-29fd8dfa5036"
   },
   "outputs": [],
   "source": [
    "from graphviz import Source\n",
    "\n",
    "Source.from_file(\"aguas_subterraneas.dot\")  # path differs in the book"
   ]
  },
  {
   "cell_type": "code",
   "execution_count": null,
   "metadata": {
    "id": "6icbjcHTK2Dz"
   },
   "outputs": [],
   "source": [
    "!dot -Tpng {\"aguas_subterraneas.dot\"} -o {\"aguas_subterraneas.png\"}"
   ]
  },
  {
   "cell_type": "code",
   "execution_count": null,
   "metadata": {
    "id": "HnLkpugSLqIC"
   },
   "outputs": [],
   "source": [
    "from sklearn.tree import DecisionTreeRegressor"
   ]
  },
  {
   "cell_type": "code",
   "execution_count": null,
   "metadata": {
    "colab": {
     "base_uri": "https://localhost:8080/"
    },
    "id": "2LUJ0Ba7Th4z",
    "outputId": "0d709cf7-6730-45d3-8cb1-7f2bd05e782e"
   },
   "outputs": [],
   "source": [
    "tree_reg = DecisionTreeRegressor(max_depth=4, random_state=42)\n",
    "tree_reg.fit(X, y)"
   ]
  },
  {
   "cell_type": "code",
   "execution_count": null,
   "metadata": {
    "colab": {
     "base_uri": "https://localhost:8080/",
     "height": 488
    },
    "id": "3H_ikfwfTxlf",
    "outputId": "ff18161b-9228-44d3-fe5c-ce360c7f74b7"
   },
   "outputs": [],
   "source": [
    "importancia=pd.DataFrame(tree_reg.feature_importances_,columns=['importancia'])\n",
    "importancia['nombres']=columnas\n",
    "importancia.sort_values(by='importancia', ascending=False)"
   ]
  },
  {
   "cell_type": "code",
   "execution_count": null,
   "metadata": {
    "colab": {
     "base_uri": "https://localhost:8080/",
     "height": 677
    },
    "id": "pBQ-DHdxVI5Z",
    "outputId": "fa147144-0bc0-4d93-a7e7-fcd2864fa8d5"
   },
   "outputs": [],
   "source": [
    "export_graphviz(\n",
    "    tree_reg,\n",
    "    out_file=str(\"regression_tree.dot\"),\n",
    "    feature_names=columnas,\n",
    "    rounded=True,\n",
    "    filled=True\n",
    ")\n",
    "\n",
    "Source.from_file(\"regression_tree.dot\")\n",
    "\n"
   ]
  },
  {
   "cell_type": "code",
   "execution_count": null,
   "metadata": {
    "id": "Wy890JIg_qvB"
   },
   "outputs": [],
   "source": [
    "!dot -Tpng {\"regression_tree.dot\"} -o {\"regression_tree.png\"}"
   ]
  },
  {
   "cell_type": "markdown",
   "metadata": {
    "id": "beOF6f7R8O_S"
   },
   "source": [
    "# Random Forest"
   ]
  },
  {
   "cell_type": "code",
   "execution_count": null,
   "metadata": {
    "id": "89xB8-mt8Q1z"
   },
   "outputs": [],
   "source": [
    "from sklearn.datasets import make_moons\n",
    "from sklearn.ensemble import RandomForestClassifier, VotingClassifier\n",
    "from sklearn.linear_model import LogisticRegression\n",
    "from sklearn.model_selection import train_test_split\n",
    "from sklearn.svm import SVC\n"
   ]
  },
  {
   "cell_type": "code",
   "execution_count": null,
   "metadata": {
    "colab": {
     "base_uri": "https://localhost:8080/"
    },
    "id": "tgahDTPW8o2Y",
    "outputId": "2c373e8b-5efb-47fa-e81c-43cfeed4dd88"
   },
   "outputs": [],
   "source": [
    "X_train, X_test, y_train, y_test = train_test_split(X, y, random_state=42)\n",
    "print(\"Datos de entrenamiento: \", round((X_train.shape[0]/X.shape[0])*100,2),\"%\\t\", y_train.shape[0])\n",
    "print(\"Datos de prueba: \\t\", round((X_test.shape[0]/X.shape[0])*100,2),\"%\\t\", y_test.shape[0])"
   ]
  },
  {
   "cell_type": "code",
   "execution_count": null,
   "metadata": {
    "id": "AFosFi6FBjPf"
   },
   "outputs": [],
   "source": [
    "log_clf=LogisticRegression(random_state=42, max_iter=10000)\n",
    "rnd_clf=RandomForestClassifier(random_state=42)\n",
    "svm_clf=SVC(probability=True,random_state=42)"
   ]
  },
  {
   "cell_type": "code",
   "execution_count": null,
   "metadata": {
    "id": "rxKsml6b8_hA"
   },
   "outputs": [],
   "source": [
    "voting_clf=VotingClassifier(estimators=[('lr',log_clf), ('rf', rnd_clf), ('svc', svm_clf)], voting='soft')"
   ]
  },
  {
   "cell_type": "code",
   "execution_count": null,
   "metadata": {
    "colab": {
     "base_uri": "https://localhost:8080/"
    },
    "id": "M_kSXuhbCNzP",
    "outputId": "2034d543-a8c1-486b-8163-25de045fd1a3"
   },
   "outputs": [],
   "source": [
    "voting_clf.fit(X_train, y_train)"
   ]
  },
  {
   "cell_type": "code",
   "execution_count": null,
   "metadata": {
    "colab": {
     "base_uri": "https://localhost:8080/"
    },
    "id": "APPDEFc8Gjoc",
    "outputId": "40a4caa4-6487-45b4-ac7b-242b1cabbc22"
   },
   "outputs": [],
   "source": [
    "from sklearn.metrics import accuracy_score\n",
    "for clf in (log_clf, rnd_clf, svm_clf, voting_clf):\n",
    "  clf.fit(X_train, y_train)\n",
    "  y_pred=clf.predict(X_test)\n",
    "  print(clf.__class__.__name__,accuracy_score(y_test, y_pred))"
   ]
  },
  {
   "cell_type": "code",
   "execution_count": null,
   "metadata": {
    "colab": {
     "base_uri": "https://localhost:8080/",
     "height": 424
    },
    "id": "w1ucC6j-HsQa",
    "outputId": "1fbb627b-0faa-49ef-a5ea-05729aa16630"
   },
   "outputs": [],
   "source": [
    "prueba=pd.DataFrame({'test':y_test.values.tolist(), 'pred':y_pred.tolist()} )\n",
    "prueba"
   ]
  },
  {
   "cell_type": "code",
   "execution_count": null,
   "metadata": {
    "id": "pgHzXR7ZQXKG"
   },
   "outputs": [],
   "source": [
    "from sklearn.metrics import confusion_matrix, ConfusionMatrixDisplay, classification_report\n",
    "\n",
    "\n"
   ]
  },
  {
   "cell_type": "markdown",
   "metadata": {
    "id": "zV_5kH4LYNAn"
   },
   "source": [
    "# Reporte de clasificación"
   ]
  },
  {
   "cell_type": "code",
   "execution_count": null,
   "metadata": {
    "colab": {
     "base_uri": "https://localhost:8080/"
    },
    "id": "hGCtcPhbX2O6",
    "outputId": "5c51bec7-725f-4371-aee0-e0ed660f4ec2"
   },
   "outputs": [],
   "source": [
    "print(classification_report(y_test, y_pred, target_names=categorias))"
   ]
  },
  {
   "cell_type": "markdown",
   "metadata": {
    "id": "YUgwuMjUXktk"
   },
   "source": [
    "# Matrix de confusión"
   ]
  },
  {
   "cell_type": "code",
   "execution_count": null,
   "metadata": {
    "colab": {
     "base_uri": "https://localhost:8080/"
    },
    "id": "m8o6xBW5QfOg",
    "outputId": "cb8e8c7e-9e6a-4143-c540-241cb21dcc32"
   },
   "outputs": [],
   "source": [
    "cf_matrix=confusion_matrix(y_test, y_pred)\n",
    "cf_matrix"
   ]
  },
  {
   "cell_type": "code",
   "execution_count": null,
   "metadata": {
    "colab": {
     "base_uri": "https://localhost:8080/",
     "height": 574
    },
    "id": "5yPu5uV6RDHf",
    "outputId": "5cbaa0fe-5cb2-4737-a66a-71fd3e63ad32"
   },
   "outputs": [],
   "source": [
    "disp = ConfusionMatrixDisplay(confusion_matrix=cf_matrix, display_labels=categorias)\n",
    "fig, ax = plt.subplots(figsize=(10,10))\n",
    "disp.plot(ax=ax)\n",
    "plt.show()\n"
   ]
  }
 ],
 "metadata": {
  "colab": {
   "include_colab_link": true,
   "provenance": []
  },
  "kernelspec": {
   "display_name": "Python 3 (ipykernel)",
   "language": "python",
   "name": "python3"
  },
  "language_info": {
   "codemirror_mode": {
    "name": "ipython",
    "version": 3
   },
   "file_extension": ".py",
   "mimetype": "text/x-python",
   "name": "python",
   "nbconvert_exporter": "python",
   "pygments_lexer": "ipython3",
   "version": "3.7.2"
  },
  "vscode": {
   "interpreter": {
    "hash": "482ef1cc97290546481d1edde539c18e5dcbc8392ed390ab825b1665f8314abc"
   }
  }
 },
 "nbformat": 4,
 "nbformat_minor": 1
}
